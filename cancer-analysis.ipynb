{
 "cells": [
  {
   "attachments": {},
   "cell_type": "markdown",
   "id": "7d495043",
   "metadata": {},
   "source": [
    "# Cancer Analysis\n",
    "\n",
    "![lung_cancer](./img/lung_cancer.jpg)\n",
    "\n",
    "Lung Cancer survey data analysis"
   ]
  },
  {
   "cell_type": "code",
   "execution_count": 1,
   "id": "5492bad4",
   "metadata": {},
   "outputs": [],
   "source": [
    "# Imports\n",
    "\n",
    "import pandas as pd\n",
    "import numpy as np\n",
    "import matplotlib.pyplot as plt"
   ]
  },
  {
   "cell_type": "code",
   "execution_count": 2,
   "id": "6d2be2b7",
   "metadata": {},
   "outputs": [
    {
     "data": {
      "text/plain": [
       "Index(['GENDER', 'AGE', 'SMOKING', 'YELLOW_FINGERS', 'ANXIETY',\n",
       "       'PEER_PRESSURE', 'CHRONIC DISEASE', 'FATIGUE ', 'ALLERGY ', 'WHEEZING',\n",
       "       'ALCOHOL CONSUMING', 'COUGHING', 'SHORTNESS OF BREATH',\n",
       "       'SWALLOWING DIFFICULTY', 'CHEST PAIN', 'LUNG_CANCER'],\n",
       "      dtype='object')"
      ]
     },
     "execution_count": 2,
     "metadata": {},
     "output_type": "execute_result"
    }
   ],
   "source": [
    "\n",
    "# csv path\n",
    "csv_file_path = './data/survey_lung_cancer.csv'\n",
    "\n",
    "# reading csv file\n",
    "df = pd.read_csv(csv_file_path)\n",
    "\n",
    "# columns\n",
    "df.columns"
   ]
  },
  {
   "cell_type": "markdown",
   "id": "b4220dc9",
   "metadata": {},
   "source": [
    "### Data Frame Additional Information\n",
    "\n",
    "Please use this to understand the tabular data and also to reference the values in the DataFrame.\n",
    "\n",
    "\n",
    "                      \n",
    "| COLUMNS                | VALUES                                   |\n",
    "|------------------------|-----------------------------------------|\n",
    "| GENDER                 | M(MALE), F(FEMALE)                      |\n",
    "| AGE                    | Age of the patient                       |\n",
    "| SMOKING                | YES=2, NO=1                              |\n",
    "| YELLOW_FINGERS         | YES=2, NO=1                              |\n",
    "| ANXIETY                | YES=2, NO=1                              |\n",
    "| PEER_PRESSURE          | YES=2, NO=1                              |\n",
    "| CHRONIC DISEASE        | YES=2, NO=1                              |\n",
    "| FATIGUE                | YES=2, NO=1                              |\n",
    "| ALLERGY                | YES=2, NO=1                              |\n",
    "| WHEEZING               | YES=2, NO=1                              |\n",
    "| ALCOHOL CONSUMING      | YES=2, NO=1                              |\n",
    "| COUGHING               | YES=2, NO=1                              |\n",
    "| SHORTNESS OF BREATH    | YES=2, NO=1                              |\n",
    "| SWALLOWING DIFFICULTY  | YES=2, NO=1                              |\n",
    "| CHEST PAIN             | YES=2, NO=1                              |\n",
    "| LUNG_CANCER            | YES, NO                                  |\n",
    "\n",
    "\n"
   ]
  },
  {
   "cell_type": "code",
   "execution_count": 3,
   "id": "4a4e7b62",
   "metadata": {},
   "outputs": [
    {
     "data": {
      "text/html": [
       "<div>\n",
       "<style scoped>\n",
       "    .dataframe tbody tr th:only-of-type {\n",
       "        vertical-align: middle;\n",
       "    }\n",
       "\n",
       "    .dataframe tbody tr th {\n",
       "        vertical-align: top;\n",
       "    }\n",
       "\n",
       "    .dataframe thead th {\n",
       "        text-align: right;\n",
       "    }\n",
       "</style>\n",
       "<table border=\"1\" class=\"dataframe\">\n",
       "  <thead>\n",
       "    <tr style=\"text-align: right;\">\n",
       "      <th></th>\n",
       "      <th>GENDER</th>\n",
       "      <th>AGE</th>\n",
       "      <th>SMOKING</th>\n",
       "      <th>YELLOW_FINGERS</th>\n",
       "      <th>ANXIETY</th>\n",
       "      <th>PEER_PRESSURE</th>\n",
       "      <th>CHRONIC DISEASE</th>\n",
       "      <th>FATIGUE</th>\n",
       "      <th>ALLERGY</th>\n",
       "      <th>WHEEZING</th>\n",
       "      <th>ALCOHOL CONSUMING</th>\n",
       "      <th>COUGHING</th>\n",
       "      <th>SHORTNESS OF BREATH</th>\n",
       "      <th>SWALLOWING DIFFICULTY</th>\n",
       "      <th>CHEST PAIN</th>\n",
       "      <th>LUNG_CANCER</th>\n",
       "    </tr>\n",
       "  </thead>\n",
       "  <tbody>\n",
       "    <tr>\n",
       "      <th>0</th>\n",
       "      <td>M</td>\n",
       "      <td>69</td>\n",
       "      <td>1</td>\n",
       "      <td>2</td>\n",
       "      <td>2</td>\n",
       "      <td>1</td>\n",
       "      <td>1</td>\n",
       "      <td>2</td>\n",
       "      <td>1</td>\n",
       "      <td>2</td>\n",
       "      <td>2</td>\n",
       "      <td>2</td>\n",
       "      <td>2</td>\n",
       "      <td>2</td>\n",
       "      <td>2</td>\n",
       "      <td>YES</td>\n",
       "    </tr>\n",
       "    <tr>\n",
       "      <th>1</th>\n",
       "      <td>M</td>\n",
       "      <td>74</td>\n",
       "      <td>2</td>\n",
       "      <td>1</td>\n",
       "      <td>1</td>\n",
       "      <td>1</td>\n",
       "      <td>2</td>\n",
       "      <td>2</td>\n",
       "      <td>2</td>\n",
       "      <td>1</td>\n",
       "      <td>1</td>\n",
       "      <td>1</td>\n",
       "      <td>2</td>\n",
       "      <td>2</td>\n",
       "      <td>2</td>\n",
       "      <td>YES</td>\n",
       "    </tr>\n",
       "    <tr>\n",
       "      <th>2</th>\n",
       "      <td>F</td>\n",
       "      <td>59</td>\n",
       "      <td>1</td>\n",
       "      <td>1</td>\n",
       "      <td>1</td>\n",
       "      <td>2</td>\n",
       "      <td>1</td>\n",
       "      <td>2</td>\n",
       "      <td>1</td>\n",
       "      <td>2</td>\n",
       "      <td>1</td>\n",
       "      <td>2</td>\n",
       "      <td>2</td>\n",
       "      <td>1</td>\n",
       "      <td>2</td>\n",
       "      <td>NO</td>\n",
       "    </tr>\n",
       "    <tr>\n",
       "      <th>3</th>\n",
       "      <td>M</td>\n",
       "      <td>63</td>\n",
       "      <td>2</td>\n",
       "      <td>2</td>\n",
       "      <td>2</td>\n",
       "      <td>1</td>\n",
       "      <td>1</td>\n",
       "      <td>1</td>\n",
       "      <td>1</td>\n",
       "      <td>1</td>\n",
       "      <td>2</td>\n",
       "      <td>1</td>\n",
       "      <td>1</td>\n",
       "      <td>2</td>\n",
       "      <td>2</td>\n",
       "      <td>NO</td>\n",
       "    </tr>\n",
       "    <tr>\n",
       "      <th>4</th>\n",
       "      <td>F</td>\n",
       "      <td>63</td>\n",
       "      <td>1</td>\n",
       "      <td>2</td>\n",
       "      <td>1</td>\n",
       "      <td>1</td>\n",
       "      <td>1</td>\n",
       "      <td>1</td>\n",
       "      <td>1</td>\n",
       "      <td>2</td>\n",
       "      <td>1</td>\n",
       "      <td>2</td>\n",
       "      <td>2</td>\n",
       "      <td>1</td>\n",
       "      <td>1</td>\n",
       "      <td>NO</td>\n",
       "    </tr>\n",
       "    <tr>\n",
       "      <th>...</th>\n",
       "      <td>...</td>\n",
       "      <td>...</td>\n",
       "      <td>...</td>\n",
       "      <td>...</td>\n",
       "      <td>...</td>\n",
       "      <td>...</td>\n",
       "      <td>...</td>\n",
       "      <td>...</td>\n",
       "      <td>...</td>\n",
       "      <td>...</td>\n",
       "      <td>...</td>\n",
       "      <td>...</td>\n",
       "      <td>...</td>\n",
       "      <td>...</td>\n",
       "      <td>...</td>\n",
       "      <td>...</td>\n",
       "    </tr>\n",
       "    <tr>\n",
       "      <th>304</th>\n",
       "      <td>F</td>\n",
       "      <td>56</td>\n",
       "      <td>1</td>\n",
       "      <td>1</td>\n",
       "      <td>1</td>\n",
       "      <td>2</td>\n",
       "      <td>2</td>\n",
       "      <td>2</td>\n",
       "      <td>1</td>\n",
       "      <td>1</td>\n",
       "      <td>2</td>\n",
       "      <td>2</td>\n",
       "      <td>2</td>\n",
       "      <td>2</td>\n",
       "      <td>1</td>\n",
       "      <td>YES</td>\n",
       "    </tr>\n",
       "    <tr>\n",
       "      <th>305</th>\n",
       "      <td>M</td>\n",
       "      <td>70</td>\n",
       "      <td>2</td>\n",
       "      <td>1</td>\n",
       "      <td>1</td>\n",
       "      <td>1</td>\n",
       "      <td>1</td>\n",
       "      <td>2</td>\n",
       "      <td>2</td>\n",
       "      <td>2</td>\n",
       "      <td>2</td>\n",
       "      <td>2</td>\n",
       "      <td>2</td>\n",
       "      <td>1</td>\n",
       "      <td>2</td>\n",
       "      <td>YES</td>\n",
       "    </tr>\n",
       "    <tr>\n",
       "      <th>306</th>\n",
       "      <td>M</td>\n",
       "      <td>58</td>\n",
       "      <td>2</td>\n",
       "      <td>1</td>\n",
       "      <td>1</td>\n",
       "      <td>1</td>\n",
       "      <td>1</td>\n",
       "      <td>1</td>\n",
       "      <td>2</td>\n",
       "      <td>2</td>\n",
       "      <td>2</td>\n",
       "      <td>2</td>\n",
       "      <td>1</td>\n",
       "      <td>1</td>\n",
       "      <td>2</td>\n",
       "      <td>YES</td>\n",
       "    </tr>\n",
       "    <tr>\n",
       "      <th>307</th>\n",
       "      <td>M</td>\n",
       "      <td>67</td>\n",
       "      <td>2</td>\n",
       "      <td>1</td>\n",
       "      <td>2</td>\n",
       "      <td>1</td>\n",
       "      <td>1</td>\n",
       "      <td>2</td>\n",
       "      <td>2</td>\n",
       "      <td>1</td>\n",
       "      <td>2</td>\n",
       "      <td>2</td>\n",
       "      <td>2</td>\n",
       "      <td>1</td>\n",
       "      <td>2</td>\n",
       "      <td>YES</td>\n",
       "    </tr>\n",
       "    <tr>\n",
       "      <th>308</th>\n",
       "      <td>M</td>\n",
       "      <td>62</td>\n",
       "      <td>1</td>\n",
       "      <td>1</td>\n",
       "      <td>1</td>\n",
       "      <td>2</td>\n",
       "      <td>1</td>\n",
       "      <td>2</td>\n",
       "      <td>2</td>\n",
       "      <td>2</td>\n",
       "      <td>2</td>\n",
       "      <td>1</td>\n",
       "      <td>1</td>\n",
       "      <td>2</td>\n",
       "      <td>1</td>\n",
       "      <td>YES</td>\n",
       "    </tr>\n",
       "  </tbody>\n",
       "</table>\n",
       "<p>309 rows × 16 columns</p>\n",
       "</div>"
      ],
      "text/plain": [
       "    GENDER  AGE  SMOKING  YELLOW_FINGERS  ANXIETY  PEER_PRESSURE  \\\n",
       "0        M   69        1               2        2              1   \n",
       "1        M   74        2               1        1              1   \n",
       "2        F   59        1               1        1              2   \n",
       "3        M   63        2               2        2              1   \n",
       "4        F   63        1               2        1              1   \n",
       "..     ...  ...      ...             ...      ...            ...   \n",
       "304      F   56        1               1        1              2   \n",
       "305      M   70        2               1        1              1   \n",
       "306      M   58        2               1        1              1   \n",
       "307      M   67        2               1        2              1   \n",
       "308      M   62        1               1        1              2   \n",
       "\n",
       "     CHRONIC DISEASE  FATIGUE   ALLERGY   WHEEZING  ALCOHOL CONSUMING  \\\n",
       "0                  1         2         1         2                  2   \n",
       "1                  2         2         2         1                  1   \n",
       "2                  1         2         1         2                  1   \n",
       "3                  1         1         1         1                  2   \n",
       "4                  1         1         1         2                  1   \n",
       "..               ...       ...       ...       ...                ...   \n",
       "304                2         2         1         1                  2   \n",
       "305                1         2         2         2                  2   \n",
       "306                1         1         2         2                  2   \n",
       "307                1         2         2         1                  2   \n",
       "308                1         2         2         2                  2   \n",
       "\n",
       "     COUGHING  SHORTNESS OF BREATH  SWALLOWING DIFFICULTY  CHEST PAIN  \\\n",
       "0           2                    2                      2           2   \n",
       "1           1                    2                      2           2   \n",
       "2           2                    2                      1           2   \n",
       "3           1                    1                      2           2   \n",
       "4           2                    2                      1           1   \n",
       "..        ...                  ...                    ...         ...   \n",
       "304         2                    2                      2           1   \n",
       "305         2                    2                      1           2   \n",
       "306         2                    1                      1           2   \n",
       "307         2                    2                      1           2   \n",
       "308         1                    1                      2           1   \n",
       "\n",
       "    LUNG_CANCER  \n",
       "0           YES  \n",
       "1           YES  \n",
       "2            NO  \n",
       "3            NO  \n",
       "4            NO  \n",
       "..          ...  \n",
       "304         YES  \n",
       "305         YES  \n",
       "306         YES  \n",
       "307         YES  \n",
       "308         YES  \n",
       "\n",
       "[309 rows x 16 columns]"
      ]
     },
     "execution_count": 3,
     "metadata": {},
     "output_type": "execute_result"
    }
   ],
   "source": [
    "df"
   ]
  },
  {
   "cell_type": "markdown",
   "id": "92cec32a",
   "metadata": {},
   "source": [
    "### Basic Data Exploration:\n",
    "\n",
    "1. How many rows and columns are there in the dataset?\n",
    "2. What are the data types of each column?\n",
    "3. Are there any missing values in the dataset?"
   ]
  },
  {
   "cell_type": "code",
   "execution_count": 4,
   "id": "a715180f",
   "metadata": {},
   "outputs": [
    {
     "data": {
      "text/plain": [
       "(309, 16)"
      ]
     },
     "execution_count": 4,
     "metadata": {},
     "output_type": "execute_result"
    }
   ],
   "source": [
    "# How many rows and columns are there in the dataset?\n",
    "\n",
    "no_of_rows_and_col = df.shape\n",
    "no_of_rows_and_col"
   ]
  },
  {
   "cell_type": "code",
   "execution_count": 5,
   "id": "f88c3422",
   "metadata": {},
   "outputs": [
    {
     "data": {
      "text/plain": [
       "GENDER                   object\n",
       "AGE                       int64\n",
       "SMOKING                   int64\n",
       "YELLOW_FINGERS            int64\n",
       "ANXIETY                   int64\n",
       "PEER_PRESSURE             int64\n",
       "CHRONIC DISEASE           int64\n",
       "FATIGUE                   int64\n",
       "ALLERGY                   int64\n",
       "WHEEZING                  int64\n",
       "ALCOHOL CONSUMING         int64\n",
       "COUGHING                  int64\n",
       "SHORTNESS OF BREATH       int64\n",
       "SWALLOWING DIFFICULTY     int64\n",
       "CHEST PAIN                int64\n",
       "LUNG_CANCER              object\n",
       "dtype: object"
      ]
     },
     "execution_count": 5,
     "metadata": {},
     "output_type": "execute_result"
    }
   ],
   "source": [
    "# What are the data types of each column\n",
    "\n",
    "dtype = df.dtypes\n",
    "dtype"
   ]
  },
  {
   "cell_type": "code",
   "execution_count": 6,
   "id": "e48ad438",
   "metadata": {},
   "outputs": [
    {
     "data": {
      "text/plain": [
       "GENDER                   0\n",
       "AGE                      0\n",
       "SMOKING                  0\n",
       "YELLOW_FINGERS           0\n",
       "ANXIETY                  0\n",
       "PEER_PRESSURE            0\n",
       "CHRONIC DISEASE          0\n",
       "FATIGUE                  0\n",
       "ALLERGY                  0\n",
       "WHEEZING                 0\n",
       "ALCOHOL CONSUMING        0\n",
       "COUGHING                 0\n",
       "SHORTNESS OF BREATH      0\n",
       "SWALLOWING DIFFICULTY    0\n",
       "CHEST PAIN               0\n",
       "LUNG_CANCER              0\n",
       "dtype: int64"
      ]
     },
     "execution_count": 6,
     "metadata": {},
     "output_type": "execute_result"
    }
   ],
   "source": [
    "# Are there any missing values in the dataset?\n",
    "\n",
    "missing_values = df.isnull().sum()\n",
    "missing_values"
   ]
  },
  {
   "cell_type": "markdown",
   "id": "70854dee",
   "metadata": {},
   "source": [
    "### Gender Distribution:\n",
    "\n",
    "4. What is the distribution of gender in the dataset?\n",
    "5. How many male (M) and female (F) patients are there?"
   ]
  },
  {
   "cell_type": "code",
   "execution_count": 7,
   "id": "e573377e",
   "metadata": {},
   "outputs": [
    {
     "data": {
      "text/plain": [
       "GENDER\n",
       "M    162\n",
       "F    147\n",
       "Name: count, dtype: int64"
      ]
     },
     "execution_count": 7,
     "metadata": {},
     "output_type": "execute_result"
    }
   ],
   "source": [
    "# What is the distribution of gender in the dataset?\n",
    "\n",
    "df['GENDER'] = df['GENDER'].astype('category')\n",
    "gender_distribution = df['GENDER'].value_counts()\n",
    "gender_distribution"
   ]
  },
  {
   "cell_type": "code",
   "execution_count": 8,
   "id": "cb871856",
   "metadata": {},
   "outputs": [
    {
     "data": {
      "text/plain": [
       "GENDER\n",
       "M    145\n",
       "F    125\n",
       "Name: count, dtype: int64"
      ]
     },
     "execution_count": 8,
     "metadata": {},
     "output_type": "execute_result"
    }
   ],
   "source": [
    "# How many male (M) and female (F) patients are there?\n",
    "\n",
    "patients = df[df['LUNG_CANCER'] == 'YES']\n",
    "patient_gender_distribution = patients['GENDER'].value_counts()\n",
    "patient_gender_distribution"
   ]
  },
  {
   "cell_type": "markdown",
   "id": "b8be3cb5",
   "metadata": {},
   "source": [
    "### Age Analysis:\n",
    "\n",
    "7. What is the average age of the patients?\n",
    "8. What is the age range of the patients in the dataset?"
   ]
  },
  {
   "cell_type": "code",
   "execution_count": 9,
   "id": "93ef061d",
   "metadata": {},
   "outputs": [
    {
     "data": {
      "text/plain": [
       "62.67313915857605"
      ]
     },
     "execution_count": 9,
     "metadata": {},
     "output_type": "execute_result"
    }
   ],
   "source": [
    "# What is the average age of the patients?\n",
    "\n",
    "avg_age = df['AGE'].mean()\n",
    "avg_age"
   ]
  },
  {
   "cell_type": "code",
   "execution_count": 10,
   "id": "2c6d802c",
   "metadata": {},
   "outputs": [
    {
     "data": {
      "text/plain": [
       "66"
      ]
     },
     "execution_count": 10,
     "metadata": {},
     "output_type": "execute_result"
    }
   ],
   "source": [
    "# What is the age range of the patients in the dataset?\n",
    "\n",
    "age_range = df['AGE'].max() - df['AGE'].min()\n",
    "age_range"
   ]
  },
  {
   "cell_type": "markdown",
   "id": "3cd45884",
   "metadata": {},
   "source": [
    "### Smoking Habits:\n",
    "\n",
    "9. What percentage of patients are smokers?\n",
    "10. Among smokers, what is the average age?"
   ]
  },
  {
   "cell_type": "code",
   "execution_count": 11,
   "id": "c6203084",
   "metadata": {},
   "outputs": [
    {
     "data": {
      "text/plain": [
       "56.310679611650485"
      ]
     },
     "execution_count": 11,
     "metadata": {},
     "output_type": "execute_result"
    }
   ],
   "source": [
    "# What percentage of patients are smokers?\n",
    "\n",
    "percentage_of_smokers = (df['SMOKING'].eq(2).sum() / len(df['SMOKING'])) * 100\n",
    "percentage_of_smokers"
   ]
  },
  {
   "cell_type": "code",
   "execution_count": 12,
   "id": "24e2a7c6",
   "metadata": {},
   "outputs": [
    {
     "data": {
      "text/plain": [
       "62.0632183908046"
      ]
     },
     "execution_count": 12,
     "metadata": {},
     "output_type": "execute_result"
    }
   ],
   "source": [
    "# Among smokers, what is the average age?\n",
    "\n",
    "smokers_avg_age = df[df['SMOKING'].eq(2)]['AGE'].mean()\n",
    "smokers_avg_age"
   ]
  },
  {
   "cell_type": "markdown",
   "id": "627d4956",
   "metadata": {},
   "source": [
    "### Symptoms Analysis:\n",
    "\n",
    "11. How many patients experience anxiety?\n",
    "12. What is the most common symptom among the patients?"
   ]
  },
  {
   "cell_type": "code",
   "execution_count": 13,
   "id": "1f4d2c4c",
   "metadata": {},
   "outputs": [
    {
     "data": {
      "text/plain": [
       "154"
      ]
     },
     "execution_count": 13,
     "metadata": {},
     "output_type": "execute_result"
    }
   ],
   "source": [
    "# How many patients experience anxiety?\n",
    "\n",
    "anxiety_patients = df['ANXIETY'].eq(2).sum()\n",
    "anxiety_patients"
   ]
  },
  {
   "cell_type": "code",
   "execution_count": 14,
   "id": "846dfea1",
   "metadata": {},
   "outputs": [
    {
     "data": {
      "text/plain": [
       "FATIGUE     1\n",
       "dtype: int64"
      ]
     },
     "execution_count": 14,
     "metadata": {},
     "output_type": "execute_result"
    }
   ],
   "source": [
    "# What is the most common symptom among the patients?\n",
    "\n",
    "\n",
    "common_symptom = df.columns[2: -1]\n",
    "common_symptom_count = df[common_symptom].eq(2).apply(sum)\n",
    "most_common_symptom = common_symptom_count.rank(method='dense', ascending=False).astype(int)\n",
    "most_common_symptom =  most_common_symptom[most_common_symptom.eq(1)]\n",
    "most_common_symptom"
   ]
  },
  {
   "cell_type": "markdown",
   "id": "ce8ceb75",
   "metadata": {},
   "source": [
    "### Health Conditions:\n",
    "\n",
    "13. How many patients have chronic diseases?\n",
    "14. What is the distribution of fatigue among the patients?"
   ]
  },
  {
   "cell_type": "code",
   "execution_count": 15,
   "id": "a73fe76e",
   "metadata": {},
   "outputs": [
    {
     "name": "stdout",
     "output_type": "stream",
     "text": [
      "The number of patients with chronic diseases is: 156\n"
     ]
    }
   ],
   "source": [
    "# How many patients have chronic diseases?\n",
    "\n",
    "patient_with_chronic_disease = df['CHRONIC DISEASE'].eq(2).sum()\n",
    "print(f\"The number of patients with chronic diseases is: {patient_with_chronic_disease}\")"
   ]
  },
  {
   "cell_type": "code",
   "execution_count": 16,
   "id": "ba864ffd",
   "metadata": {},
   "outputs": [
    {
     "name": "stdout",
     "output_type": "stream",
     "text": [
      "Distribution of fatigue among the patients:\n",
      "FATIGUE \n",
      "2    67.313916\n",
      "1    32.686084\n",
      "Name: proportion, dtype: float64\n"
     ]
    }
   ],
   "source": [
    "# What is the distribution of fatigue among the patients?\n",
    "\n",
    "fatigue_distribution = df['FATIGUE '].value_counts(normalize=True) * 100\n",
    "\n",
    "print(\"Distribution of fatigue among the patients:\")\n",
    "\n",
    "print(fatigue_distribution)"
   ]
  },
  {
   "cell_type": "markdown",
   "id": "edd42c7b",
   "metadata": {},
   "source": [
    "### Lung Cancer Cases:\n",
    "\n",
    "15. How many patients have been diagnosed with lung cancer?\n",
    "16. Is there a correlation between smoking and lung cancer?"
   ]
  },
  {
   "cell_type": "code",
   "execution_count": 17,
   "id": "08fd1726",
   "metadata": {},
   "outputs": [
    {
     "name": "stdout",
     "output_type": "stream",
     "text": [
      "270\n"
     ]
    },
    {
     "data": {
      "image/png": "[encoded data removed]",
      "text/plain": [
       "<Figure size 640x480 with 1 Axes>"
      ]
     },
     "metadata": {},
     "output_type": "display_data"
    }
   ],
   "source": [
    "# How many patients have been diagnosed with lung cancer?\n",
    "\n",
    "\n",
    "print(patients['LUNG_CANCER'].eq('YES').sum())\n",
    "\n",
    "plt.hist(df['LUNG_CANCER'])\n",
    "plt.show()"
   ]
  },
  {
   "cell_type": "code",
   "execution_count": 18,
   "id": "a9e82ee7",
   "metadata": {},
   "outputs": [
    {
     "name": "stdout",
     "output_type": "stream",
     "text": [
      "The correlation between smoking and lung cancer is: 0.06\n"
     ]
    }
   ],
   "source": [
    "# Is there a correlation between smoking and lung cancer?\n",
    "\n",
    "correlation = df['LUNG_CANCER'].map({\"YES\": 2, \"NO\": 1}).corr(df['SMOKING'])\n",
    "\n",
    "print(f\"The correlation between smoking and lung cancer is: {correlation:.2f}\")"
   ]
  },
  {
   "cell_type": "markdown",
   "id": "cb977bf7",
   "metadata": {},
   "source": [
    "### Alcohol Consumption:\n",
    "\n",
    "17. What percentage of patients consume alcohol?\n",
    "18. Among alcohol consumers, what is the prevalence of wheezing?"
   ]
  },
  {
   "cell_type": "code",
   "execution_count": 19,
   "id": "15151e70",
   "metadata": {},
   "outputs": [
    {
     "data": {
      "text/plain": [
       "55.663430420711975"
      ]
     },
     "execution_count": 19,
     "metadata": {},
     "output_type": "execute_result"
    }
   ],
   "source": [
    "# What percentage of patients consume alcohol?\n",
    "\n",
    "alcohol_consumer_percentage = (df['ALCOHOL CONSUMING'].eq(2).sum() / len(df['ALCOHOL CONSUMING'])) * 100\n",
    "alcohol_consumer_percentage"
   ]
  },
  {
   "cell_type": "code",
   "execution_count": 20,
   "id": "fbf1764b",
   "metadata": {},
   "outputs": [
    {
     "name": "stdout",
     "output_type": "stream",
     "text": [
      "Among alcohol consumers, 67.44% experience wheezing.\n"
     ]
    }
   ],
   "source": [
    "# Among alcohol consumers, what is the prevalence of wheezing?\n",
    "\n",
    "\n",
    "alcohol_consumers = df[df['ALCOHOL CONSUMING'].eq(2)]\n",
    "\n",
    "prevalence_of_wheezing_among_alcohol_consumers = (alcohol_consumers['WHEEZING'] == 2).mean() * 100\n",
    "\n",
    "print(f\"Among alcohol consumers, {prevalence_of_wheezing_among_alcohol_consumers:.2f}% experience wheezing.\")"
   ]
  },
  {
   "cell_type": "markdown",
   "id": "619628b8",
   "metadata": {},
   "source": [
    "### Chest Pain Analysis:\n",
    "\n",
    "19. How many patients experience chest pain?\n",
    "20. Is there a relationship between chest pain and shortness of breath?"
   ]
  },
  {
   "cell_type": "code",
   "execution_count": 21,
   "id": "61c61ed4",
   "metadata": {},
   "outputs": [
    {
     "data": {
      "text/plain": [
       "172"
      ]
     },
     "execution_count": 21,
     "metadata": {},
     "output_type": "execute_result"
    }
   ],
   "source": [
    "# How many patients experience chest pain?\n",
    "\n",
    "patient_with_chest_pain = df[df['CHEST PAIN'].eq(2)]\n",
    "len(patient_with_chest_pain)"
   ]
  },
  {
   "cell_type": "code",
   "execution_count": 22,
   "id": "70dc9ffe",
   "metadata": {},
   "outputs": [
    {
     "name": "stdout",
     "output_type": "stream",
     "text": [
      "\n",
      "Chi-square Test:\n",
      "Chi-square value: 0.0942747875303897\n",
      "P-value: 0.758811406608107\n",
      "\n",
      "The relationship between chest pain and shortness of breath is not statistically significant.\n"
     ]
    }
   ],
   "source": [
    "# Is there a relationship between chest pain and shortness of breath?\n",
    "\n",
    "from scipy.stats import chi2_contingency\n",
    "\n",
    "contingency_table = pd.crosstab(df['CHEST PAIN'], df['SHORTNESS OF BREATH'])\n",
    "contingency_table\n",
    "\n",
    "chi2, p, _, _ = chi2_contingency(contingency_table)\n",
    "\n",
    "print(\"\\nChi-square Test:\")\n",
    "print(f\"Chi-square value: {chi2}\")\n",
    "print(f\"P-value: {p}\")\n",
    "\n",
    "alpha = 0.05\n",
    "if p < alpha:\n",
    "    print(\"\\nThere is a significant relationship between chest pain and shortness of breath.\")\n",
    "else:\n",
    "    print(\"\\nThe relationship between chest pain and shortness of breath is not statistically significant.\")"
   ]
  },
  {
   "cell_type": "markdown",
   "id": "bff2fa55",
   "metadata": {},
   "source": [
    "### Peer Pressure and Smoking:\n",
    "\n",
    "21. Among patients who experience peer pressure, what percentage are smokers?\n",
    "22. Is there a difference in the average age between smokers and non-smokers?"
   ]
  },
  {
   "cell_type": "code",
   "execution_count": 23,
   "id": "0a2a5eca",
   "metadata": {},
   "outputs": [
    {
     "data": {
      "text/plain": [
       "54.19354838709678"
      ]
     },
     "execution_count": 23,
     "metadata": {},
     "output_type": "execute_result"
    }
   ],
   "source": [
    "# Among patients who experience peer pressure, what percentage are smokers?\n",
    "\n",
    "patients_experience_pp = df[df['PEER_PRESSURE'].eq(2)]\n",
    "smokers_percentage = (patients_experience_pp['SMOKING'].eq(2)).mean() * 100\n",
    "smokers_percentage"
   ]
  },
  {
   "cell_type": "code",
   "execution_count": 24,
   "id": "5b1d3a0b",
   "metadata": {},
   "outputs": [
    {
     "name": "stdout",
     "output_type": "stream",
     "text": [
      "T-Test Result:\n",
      "T-statistic: -1.4871707221760917\n",
      "P-value: 0.13805816037625326\n",
      "\n",
      "The difference in the average age between smokers and non-smokers is not statistically significant.\n"
     ]
    }
   ],
   "source": [
    "# Is there a difference in the average age between smokers and non-smokers?\n",
    "\n",
    "from scipy.stats import ttest_ind\n",
    "\n",
    "smokers = df[df['SMOKING'].eq(2)]['AGE']\n",
    "non_smokers = df[df['SMOKING'].eq(1)]['AGE']\n",
    "\n",
    "t_statistic, p_value = ttest_ind(smokers, non_smokers, equal_var=False)\n",
    "\n",
    "# Print the result of the t-test\n",
    "print(\"T-Test Result:\")\n",
    "print(f\"T-statistic: {t_statistic}\")\n",
    "print(f\"P-value: {p_value}\")\n",
    "\n",
    "# Interpret the result\n",
    "alpha = 0.05\n",
    "if p_value < alpha:\n",
    "    print(\"\\nThere is a significant difference in the average age between smokers and non-smokers.\")\n",
    "else:\n",
    "    print(\"\\nThe difference in the average age between smokers and non-smokers is not statistically significant.\")"
   ]
  }
 ],
 "metadata": {
  "kernelspec": {
   "display_name": "Python 3 (ipykernel)",
   "language": "python",
   "name": "python3"
  },
  "language_info": {
   "codemirror_mode": {
    "name": "ipython",
    "version": 3
   },
   "file_extension": ".py",
   "mimetype": "text/x-python",
   "name": "python",
   "nbconvert_exporter": "python",
   "pygments_lexer": "ipython3",
   "version": "3.11.5"
  }
 },
 "nbformat": 4,
 "nbformat_minor": 5
}
